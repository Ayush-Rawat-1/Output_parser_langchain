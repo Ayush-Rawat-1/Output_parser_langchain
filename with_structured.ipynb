{
 "cells": [
  {
   "cell_type": "markdown",
   "id": "8d7f69eb",
   "metadata": {},
   "source": [
    "Enforce Schema but no data validation"
   ]
  },
  {
   "cell_type": "code",
   "execution_count": 1,
   "id": "9cf8c759",
   "metadata": {},
   "outputs": [],
   "source": [
    "from langchain_groq import ChatGroq\n",
    "import os\n",
    "from dotenv import load_dotenv\n",
    "load_dotenv()\n",
    "groq_api_key=os.getenv(\"GROQ_API_KEY\")\n",
    "llm=ChatGroq(model=\"gemma2-9b-it\")"
   ]
  },
  {
   "cell_type": "code",
   "execution_count": 4,
   "id": "994f43a4",
   "metadata": {},
   "outputs": [],
   "source": [
    "from langchain_core.prompts import PromptTemplate\n",
    "from langchain.output_parsers import StructuredOutputParser,ResponseSchema"
   ]
  },
  {
   "cell_type": "code",
   "execution_count": 5,
   "id": "252c6a49",
   "metadata": {},
   "outputs": [],
   "source": [
    "schema=[\n",
    "    ResponseSchema(name=\"name\",description=\"Name of the character\"),\n",
    "    ResponseSchema(name=\"age\",description=\"Age of the character\"),\n",
    "    ResponseSchema(name=\"city\",description=\"Age of the character\"),\n",
    "    ResponseSchema(name=\"role\",description=\"Role of the character\"),\n",
    "    ResponseSchema(name=\"description\",description=\"Description of the character\")\n",
    "]"
   ]
  },
  {
   "cell_type": "code",
   "execution_count": 6,
   "id": "86c5db7d",
   "metadata": {},
   "outputs": [
    {
     "data": {
      "text/plain": [
       "PromptTemplate(input_variables=['character'], input_types={}, partial_variables={'format_instruction': 'The output should be a markdown code snippet formatted in the following schema, including the leading and trailing \"```json\" and \"```\":\\n\\n```json\\n{\\n\\t\"name\": string  // Name of the character\\n\\t\"age\": string  // Age of the character\\n\\t\"city\": string  // Age of the character\\n\\t\"role\": string  // Role of the character\\n\\t\"description\": string  // Description of the character\\n}\\n```'}, template='Give details of the character: {character}\\n {format_instruction}')"
      ]
     },
     "execution_count": 6,
     "metadata": {},
     "output_type": "execute_result"
    }
   ],
   "source": [
    "parser=StructuredOutputParser.from_response_schemas(schema)\n",
    "temp=PromptTemplate(\n",
    "    template=\"Give details of the character: {character}\\n {format_instruction}\",\n",
    "    input_variables=[\"character\"],\n",
    "    partial_variables={\"format_instruction\":parser.get_format_instructions()}\n",
    ")\n",
    "temp"
   ]
  },
  {
   "cell_type": "code",
   "execution_count": 7,
   "id": "39e625ae",
   "metadata": {},
   "outputs": [
    {
     "data": {
      "text/plain": [
       "StructuredOutputParser(response_schemas=[ResponseSchema(name='name', description='Name of the character', type='string'), ResponseSchema(name='age', description='Age of the character', type='string'), ResponseSchema(name='city', description='Age of the character', type='string'), ResponseSchema(name='role', description='Role of the character', type='string'), ResponseSchema(name='description', description='Description of the character', type='string')])"
      ]
     },
     "execution_count": 7,
     "metadata": {},
     "output_type": "execute_result"
    }
   ],
   "source": [
    "parser"
   ]
  },
  {
   "cell_type": "code",
   "execution_count": 10,
   "id": "e44df1f8",
   "metadata": {},
   "outputs": [
    {
     "data": {
      "text/plain": [
       "StringPromptValue(text='Give details of the character: Bruce Wayne\\n The output should be a markdown code snippet formatted in the following schema, including the leading and trailing \"```json\" and \"```\":\\n\\n```json\\n{\\n\\t\"name\": string  // Name of the character\\n\\t\"age\": string  // Age of the character\\n\\t\"city\": string  // Age of the character\\n\\t\"role\": string  // Role of the character\\n\\t\"description\": string  // Description of the character\\n}\\n```')"
      ]
     },
     "execution_count": 10,
     "metadata": {},
     "output_type": "execute_result"
    }
   ],
   "source": [
    "temp.invoke({\"character\":\"Bruce Wayne\"})"
   ]
  },
  {
   "cell_type": "code",
   "execution_count": 9,
   "id": "84f2b726",
   "metadata": {},
   "outputs": [],
   "source": [
    "chain= temp | llm | parser"
   ]
  },
  {
   "cell_type": "code",
   "execution_count": 11,
   "id": "89282398",
   "metadata": {},
   "outputs": [
    {
     "data": {
      "text/plain": [
       "{'name': 'Bruce Wayne',\n",
       " 'age': 'Mid-40s',\n",
       " 'city': 'Gotham City',\n",
       " 'role': 'Vigilante, Philanthropist',\n",
       " 'description': 'A wealthy industrialist and the masked vigilante Batman, Bruce Wayne is driven by the tragic murder of his parents as a child. Haunted by their loss, he dedicates his life to fighting crime and protecting Gotham City from corruption and injustice.'}"
      ]
     },
     "execution_count": 11,
     "metadata": {},
     "output_type": "execute_result"
    }
   ],
   "source": [
    "chain.invoke({\"character\" : \"Bruce Wayne\"})"
   ]
  },
  {
   "cell_type": "code",
   "execution_count": null,
   "id": "17205ecc",
   "metadata": {},
   "outputs": [],
   "source": []
  }
 ],
 "metadata": {
  "kernelspec": {
   "display_name": "venv",
   "language": "python",
   "name": "python3"
  },
  "language_info": {
   "codemirror_mode": {
    "name": "ipython",
    "version": 3
   },
   "file_extension": ".py",
   "mimetype": "text/x-python",
   "name": "python",
   "nbconvert_exporter": "python",
   "pygments_lexer": "ipython3",
   "version": "3.12.11"
  }
 },
 "nbformat": 4,
 "nbformat_minor": 5
}
