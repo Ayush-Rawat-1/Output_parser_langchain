{
 "cells": [
  {
   "cell_type": "code",
   "execution_count": 1,
   "id": "236e9949",
   "metadata": {},
   "outputs": [
    {
     "data": {
      "text/plain": [
       "True"
      ]
     },
     "execution_count": 1,
     "metadata": {},
     "output_type": "execute_result"
    }
   ],
   "source": [
    "from langchain_groq import ChatGroq\n",
    "import os\n",
    "from dotenv import load_dotenv\n",
    "load_dotenv()"
   ]
  },
  {
   "cell_type": "code",
   "execution_count": 2,
   "id": "7c5769ed",
   "metadata": {},
   "outputs": [],
   "source": [
    "groq_api_key=os.getenv(\"GROQ_API_KEY\")\n",
    "llm=ChatGroq(model=\"gemma2-9b-it\")"
   ]
  },
  {
   "cell_type": "code",
   "execution_count": 3,
   "id": "a3b36b65",
   "metadata": {},
   "outputs": [],
   "source": [
    "from langchain_core.prompts import PromptTemplate"
   ]
  },
  {
   "cell_type": "code",
   "execution_count": 4,
   "id": "a71dd82c",
   "metadata": {},
   "outputs": [],
   "source": [
    "# 1. Detail report\n",
    "temp1=PromptTemplate(\n",
    "    template=\"Write a detail report on topic : {topic}.\",\n",
    "    input_variables=[\"topic\"],\n",
    ")\n",
    "\n",
    "# 2. Summary\n",
    "temp2=PromptTemplate(\n",
    "    template=\"Write a 5 line summary on the following text.\\n text : {text}.\",\n",
    "    input_variables=[\"text\"],\n",
    ")"
   ]
  },
  {
   "cell_type": "code",
   "execution_count": 8,
   "id": "e1ea31f7",
   "metadata": {},
   "outputs": [
    {
     "data": {
      "text/plain": [
       "AIMessage(content=\"##  Black Holes: Cosmic Abyss \\n\\nBlack holes are some of the most fascinating and enigmatic objects in the universe. These celestial bodies possess such immense gravitational pull that nothing, not even light, can escape their grasp. This report delves into the nature, formation, properties, and observational evidence of black holes, shedding light on these cosmic abysses.\\n\\n**1. What are Black Holes?**\\n\\nA black hole is a region in spacetime where gravity is so strong that nothing, not even light, can escape its pull. This extreme gravity arises from the concentration of an enormous amount of mass within a very small space.\\n\\n**2. Formation of Black Holes:**\\n\\nBlack holes are believed to form through the gravitational collapse of massive stars at the end of their life cycles. \\n\\n* **Stellar-mass black holes:** These form when a star significantly more massive than our sun exhausts its nuclear fuel and collapses under its own gravity. The core implodes, creating a singularity - a point of infinite density.\\n* **Supermassive black holes:** These behemoths reside at the centers of most galaxies, including our own Milky Way. They can have masses millions or even billions of times greater than our sun. The exact formation mechanism of supermassive black holes is still debated, but they likely grow by consuming surrounding matter and merging with other black holes.\\n\\n**3. Properties of Black Holes:**\\n\\n* **Event Horizon:** The boundary surrounding a black hole beyond which escape is impossible. Anything crossing the event horizon is inevitably drawn into the singularity.\\n* **Singularity:** The point at the center of a black hole where density and gravity become infinite. Our current understanding of physics breaks down at this point.\\n\\n* **Schwarzschild Radius:** The radius of the event horizon, proportional to the mass of the black hole.\\n\\n**4. Observational Evidence:**\\n\\nWhile black holes cannot be directly observed due to their light-trapping nature, their presence is inferred through their gravitational effects on surrounding matter:\\n\\n* **X-ray Emissions:** As matter spirals into a black hole, it heats up and emits X-rays, which can be detected by telescopes.\\n* **Gravitational Lensing:** Black holes warp spacetime, bending the path of light passing nearby. This can create multiple images of distant objects or distort their shapes.\\n* **Orbital Motion:** Stars orbiting a black hole exhibit unusual velocities and paths due to the immense gravitational pull.\\n\\n**5. Recent Discoveries and Future Research:**\\n\\n* **Event Horizon Telescope:** In 2019, the Event Horizon Telescope captured the first image of a black hole's shadow, providing direct visual evidence of these enigmatic objects.\\n* **Gravitational Waves:** The detection of gravitational waves from merging black holes confirms Einstein's theory of general relativity and opens new avenues for studying these cosmic behemoths.\\n* **Hawking Radiation:** Stephen Hawking proposed that black holes slowly evaporate over time by emitting radiation, although this process is extremely slow for typical black holes.\\n\\n**Conclusion:**\\n\\nBlack holes remain one of the most captivating and mysterious objects in the universe. Their extreme gravity and enigmatic nature continue to challenge our understanding of physics and the cosmos. Ongoing research and advancements in observational techniques are steadily unraveling the secrets of these cosmic abysses, promising further insights into the nature of gravity, spacetime, and the evolution of the universe. \\n\\n\\n\", additional_kwargs={}, response_metadata={'token_usage': {'completion_tokens': 692, 'prompt_tokens': 19, 'total_tokens': 711, 'completion_time': 1.258181818, 'prompt_time': 0.001321742, 'queue_time': 0.285311377, 'total_time': 1.25950356}, 'model_name': 'gemma2-9b-it', 'system_fingerprint': 'fp_10c08bf97d', 'service_tier': 'on_demand', 'finish_reason': 'stop', 'logprobs': None}, id='run--1ec40877-8892-4f85-8520-2283788a180b-0', usage_metadata={'input_tokens': 19, 'output_tokens': 692, 'total_tokens': 711})"
      ]
     },
     "execution_count": 8,
     "metadata": {},
     "output_type": "execute_result"
    }
   ],
   "source": [
    "prompt1=temp1.invoke({\"topic\":\"black hole\"})\n",
    "result1=llm.invoke(prompt1)\n",
    "result1"
   ]
  },
  {
   "cell_type": "code",
   "execution_count": 9,
   "id": "d7f039f8",
   "metadata": {},
   "outputs": [
    {
     "data": {
      "text/plain": [
       "AIMessage(content=\"Black holes are regions of intense gravity where even light cannot escape. They form from the collapse of massive stars or through the accretion of matter at galactic centers. Black holes possess an event horizon, a boundary beyond which escape is impossible, and a singularity at their core where density and gravity become infinite.  Their presence is inferred through gravitational effects on surrounding matter, such as X-ray emissions and distorted light paths. Recent breakthroughs, including the first image of a black hole's shadow and the detection of gravitational waves from merging black holes, continue to deepen our understanding of these cosmic enigmas.  \\n\\n\\n\", additional_kwargs={}, response_metadata={'token_usage': {'completion_tokens': 122, 'prompt_tokens': 714, 'total_tokens': 836, 'completion_time': 0.221818182, 'prompt_time': 0.013807742, 'queue_time': 0.255829398, 'total_time': 0.235625924}, 'model_name': 'gemma2-9b-it', 'system_fingerprint': 'fp_10c08bf97d', 'service_tier': 'on_demand', 'finish_reason': 'stop', 'logprobs': None}, id='run--2324c8e3-855e-4a10-b7d2-5f227426bf7d-0', usage_metadata={'input_tokens': 714, 'output_tokens': 122, 'total_tokens': 836})"
      ]
     },
     "execution_count": 9,
     "metadata": {},
     "output_type": "execute_result"
    }
   ],
   "source": [
    "prompt2=temp2.invoke({\"text\":result1.content})\n",
    "result2=llm.invoke(prompt2)\n",
    "result2"
   ]
  },
  {
   "cell_type": "code",
   "execution_count": 12,
   "id": "8dfcc009",
   "metadata": {},
   "outputs": [
    {
     "data": {
      "text/plain": [
       "AIMessage(content='Generative AI uses deep learning to create new content like text, images, audio, and code. Key techniques include GANs, VAEs, and transformer networks. Applications range from chatbots and content creation to image synthesis and music composition.  Ethical concerns include bias, misinformation, copyright issues, and potential job displacement. Future research aims to improve explainability, controllability, and multimodal generation of AI-created content. \\n\\n\\n', additional_kwargs={}, response_metadata={'token_usage': {'completion_tokens': 89, 'prompt_tokens': 1149, 'total_tokens': 1238, 'completion_time': 0.161818182, 'prompt_time': 0.024251669, 'queue_time': 0.24796084, 'total_time': 0.186069851}, 'model_name': 'gemma2-9b-it', 'system_fingerprint': 'fp_10c08bf97d', 'service_tier': 'on_demand', 'finish_reason': 'stop', 'logprobs': None}, id='run--042fb5bb-43f0-473f-ac9b-bfe8f3ca6dc3-0', usage_metadata={'input_tokens': 1149, 'output_tokens': 89, 'total_tokens': 1238})"
      ]
     },
     "execution_count": 12,
     "metadata": {},
     "output_type": "execute_result"
    }
   ],
   "source": [
    "chain=temp1 | llm | temp2 | llm\n",
    "\n",
    "chain.invoke({\"topic\" : \"generative ai\"})"
   ]
  },
  {
   "cell_type": "code",
   "execution_count": 13,
   "id": "29545765",
   "metadata": {},
   "outputs": [],
   "source": [
    "from langchain_core.output_parsers import StrOutputParser"
   ]
  },
  {
   "cell_type": "code",
   "execution_count": 24,
   "id": "8c697719",
   "metadata": {},
   "outputs": [],
   "source": [
    "parser=StrOutputParser()"
   ]
  },
  {
   "cell_type": "code",
   "execution_count": 26,
   "id": "8b2a87f0",
   "metadata": {},
   "outputs": [
    {
     "data": {
      "text/plain": [
       "\"Black holes are regions of intense gravity where even light cannot escape. They form from the collapse of massive stars or through the accretion of matter at galactic centers. Black holes possess an event horizon, a boundary beyond which escape is impossible, and a singularity at their core where density and gravity become infinite.  Their presence is inferred through gravitational effects on surrounding matter, such as X-ray emissions and distorted light paths. Recent breakthroughs, including the first image of a black hole's shadow and the detection of gravitational waves from merging black holes, continue to deepen our understanding of these cosmic enigmas.  \\n\\n\\n\""
      ]
     },
     "execution_count": 26,
     "metadata": {},
     "output_type": "execute_result"
    }
   ],
   "source": [
    "parser.invoke(result2)"
   ]
  },
  {
   "cell_type": "code",
   "execution_count": 27,
   "id": "78cb5e37",
   "metadata": {},
   "outputs": [],
   "source": [
    "chain = temp1 | llm | parser | temp2 | llm | parser"
   ]
  },
  {
   "cell_type": "code",
   "execution_count": 28,
   "id": "9db83543",
   "metadata": {},
   "outputs": [
    {
     "data": {
      "text/plain": [
       "\"Docker is an open-source platform that uses containers to package and run applications. \\n\\nContainers provide isolation, portability, and efficiency by encapsulating an application's code and dependencies. Docker offers key features like Dockerfiles for image building, registries for image storage, and a client-engine architecture for interaction.\\n\\nIt benefits developers with streamlined workflows, enabling microservices development, DevOps practices, and cloud-native application deployment.  \\n\\nDocker's ease of use and powerful capabilities have made it a fundamental technology in modern software development.  Its widespread adoption continues to drive innovation and efficiency in the software industry. \\n\\n\\n\""
      ]
     },
     "execution_count": 28,
     "metadata": {},
     "output_type": "execute_result"
    }
   ],
   "source": [
    "chain.invoke({\"topic\": \"Docker\"})"
   ]
  }
 ],
 "metadata": {
  "kernelspec": {
   "display_name": "venv",
   "language": "python",
   "name": "python3"
  },
  "language_info": {
   "codemirror_mode": {
    "name": "ipython",
    "version": 3
   },
   "file_extension": ".py",
   "mimetype": "text/x-python",
   "name": "python",
   "nbconvert_exporter": "python",
   "pygments_lexer": "ipython3",
   "version": "3.12.11"
  }
 },
 "nbformat": 4,
 "nbformat_minor": 5
}
