{
 "cells": [
  {
   "cell_type": "markdown",
   "id": "e8dd2766",
   "metadata": {},
   "source": [
    "# JSON output but no schema enforce => use structure output parser for same"
   ]
  },
  {
   "cell_type": "code",
   "execution_count": 1,
   "id": "2ee12976",
   "metadata": {},
   "outputs": [],
   "source": [
    "from langchain_groq import ChatGroq\n",
    "import os\n",
    "from dotenv import load_dotenv\n",
    "load_dotenv()\n",
    "groq_api_key=os.getenv(\"GROQ_API_KEY\")\n",
    "llm=ChatGroq(model=\"gemma2-9b-it\")"
   ]
  },
  {
   "cell_type": "code",
   "execution_count": 3,
   "id": "d9ae9bfd",
   "metadata": {},
   "outputs": [],
   "source": [
    "from langchain_core.prompts import PromptTemplate\n",
    "from langchain_core.output_parsers import JsonOutputParser"
   ]
  },
  {
   "cell_type": "code",
   "execution_count": 4,
   "id": "96f37cf0",
   "metadata": {},
   "outputs": [],
   "source": [
    "parser=JsonOutputParser()"
   ]
  },
  {
   "cell_type": "code",
   "execution_count": 32,
   "id": "16e9aadb",
   "metadata": {},
   "outputs": [],
   "source": [
    "temp=PromptTemplate(\n",
    "    template=\"Give me a name, age and city of fictional character: {character}\\n {format_instruction}\",\n",
    "    input_variables=[\"character\"],\n",
    "    partial_variables={'format_instruction':parser.get_format_instructions()}\n",
    ")"
   ]
  },
  {
   "cell_type": "code",
   "execution_count": 33,
   "id": "1dc241b1",
   "metadata": {},
   "outputs": [
    {
     "data": {
      "text/plain": [
       "PromptTemplate(input_variables=['character'], input_types={}, partial_variables={'format_instruction': 'Return a JSON object.'}, template='Give me a name, age and city of fictional character: {character}\\n {format_instruction}')"
      ]
     },
     "execution_count": 33,
     "metadata": {},
     "output_type": "execute_result"
    }
   ],
   "source": [
    "temp"
   ]
  },
  {
   "cell_type": "code",
   "execution_count": 34,
   "id": "951b3971",
   "metadata": {},
   "outputs": [
    {
     "data": {
      "text/plain": [
       "'Give me a name, age and city of fictional character: Bruce Wayne\\n Return a JSON object.'"
      ]
     },
     "execution_count": 34,
     "metadata": {},
     "output_type": "execute_result"
    }
   ],
   "source": [
    "prompt1=temp.format(character=\"Bruce Wayne\")\n",
    "prompt1"
   ]
  },
  {
   "cell_type": "code",
   "execution_count": 35,
   "id": "035e4014",
   "metadata": {},
   "outputs": [
    {
     "data": {
      "text/plain": [
       "AIMessage(content='```json\\n{\\n  \"name\": \"Bruce Wayne\",\\n  \"age\": 35,\\n  \"city\": \"Gotham City\"\\n}\\n```', additional_kwargs={}, response_metadata={'token_usage': {'completion_tokens': 37, 'prompt_tokens': 29, 'total_tokens': 66, 'completion_time': 0.067272727, 'prompt_time': 0.001404851, 'queue_time': 0.245314779, 'total_time': 0.068677578}, 'model_name': 'gemma2-9b-it', 'system_fingerprint': 'fp_10c08bf97d', 'service_tier': 'on_demand', 'finish_reason': 'stop', 'logprobs': None}, id='run--b5a01ec5-6edc-4ae4-ab3a-becdb2bff33e-0', usage_metadata={'input_tokens': 29, 'output_tokens': 37, 'total_tokens': 66})"
      ]
     },
     "execution_count": 35,
     "metadata": {},
     "output_type": "execute_result"
    }
   ],
   "source": [
    "res1=llm.invoke(prompt1)\n",
    "res1"
   ]
  },
  {
   "cell_type": "code",
   "execution_count": 36,
   "id": "d45b5dab",
   "metadata": {},
   "outputs": [
    {
     "data": {
      "text/plain": [
       "{'name': 'Bruce Wayne', 'age': 35, 'city': 'Gotham City'}"
      ]
     },
     "execution_count": 36,
     "metadata": {},
     "output_type": "execute_result"
    }
   ],
   "source": [
    "parser.invoke(res1)"
   ]
  },
  {
   "cell_type": "code",
   "execution_count": 37,
   "id": "870af522",
   "metadata": {},
   "outputs": [
    {
     "data": {
      "text/plain": [
       "{'name': 'Bruce Wayne', 'age': 35, 'city': 'Gotham City'}"
      ]
     },
     "execution_count": 37,
     "metadata": {},
     "output_type": "execute_result"
    }
   ],
   "source": [
    "chain = temp | llm | parser\n",
    "chain.invoke({\"character\" : \"Bruce Wayne\"})"
   ]
  },
  {
   "cell_type": "code",
   "execution_count": null,
   "id": "143fb3ca",
   "metadata": {},
   "outputs": [],
   "source": []
  }
 ],
 "metadata": {
  "kernelspec": {
   "display_name": "venv",
   "language": "python",
   "name": "python3"
  },
  "language_info": {
   "codemirror_mode": {
    "name": "ipython",
    "version": 3
   },
   "file_extension": ".py",
   "mimetype": "text/x-python",
   "name": "python",
   "nbconvert_exporter": "python",
   "pygments_lexer": "ipython3",
   "version": "3.12.11"
  }
 },
 "nbformat": 4,
 "nbformat_minor": 5
}
