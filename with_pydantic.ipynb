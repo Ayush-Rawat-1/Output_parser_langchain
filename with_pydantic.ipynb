{
 "cells": [
  {
   "cell_type": "markdown",
   "id": "47ec755e",
   "metadata": {},
   "source": [
    "Strict Schema and data validation\n",
    "Type coercion"
   ]
  },
  {
   "cell_type": "code",
   "execution_count": 1,
   "id": "f9d44fc5",
   "metadata": {},
   "outputs": [],
   "source": [
    "from langchain_groq import ChatGroq\n",
    "import os\n",
    "from dotenv import load_dotenv\n",
    "load_dotenv()\n",
    "groq_api_key=os.getenv(\"GROQ_API_KEY\")\n",
    "llm=ChatGroq(model=\"gemma2-9b-it\")"
   ]
  },
  {
   "cell_type": "code",
   "execution_count": 2,
   "id": "023a025a",
   "metadata": {},
   "outputs": [],
   "source": [
    "from langchain_core.prompts import PromptTemplate\n",
    "from langchain_core.output_parsers import PydanticOutputParser\n",
    "from pydantic import BaseModel,Field"
   ]
  },
  {
   "cell_type": "code",
   "execution_count": 3,
   "id": "8246b3b5",
   "metadata": {},
   "outputs": [],
   "source": [
    "class Person(BaseModel):\n",
    "    name: str = Field(description=\"Name of the person\")\n",
    "    age : int = Field(description=\"Age of the person\")\n",
    "    city: str = Field(description=\"Name of City the person belongs to\")\n",
    "    description: str = Field(description=\"Description of the person\")"
   ]
  },
  {
   "cell_type": "code",
   "execution_count": 4,
   "id": "e36d0492",
   "metadata": {},
   "outputs": [],
   "source": [
    "parser=PydanticOutputParser(pydantic_object=Person)\n",
    "\n",
    "temp=PromptTemplate(\n",
    "    template=\"Give the information about the person : {character}\\n {format_instructions}\",\n",
    "    input_variables=[\"character\"],\n",
    "    partial_variables={\"format_instructions\":parser.get_format_instructions()}\n",
    ")"
   ]
  },
  {
   "cell_type": "code",
   "execution_count": 5,
   "id": "74c17f0e",
   "metadata": {},
   "outputs": [
    {
     "data": {
      "text/plain": [
       "PydanticOutputParser(pydantic_object=<class '__main__.Person'>)"
      ]
     },
     "execution_count": 5,
     "metadata": {},
     "output_type": "execute_result"
    }
   ],
   "source": [
    "parser"
   ]
  },
  {
   "cell_type": "code",
   "execution_count": 6,
   "id": "6329602e",
   "metadata": {},
   "outputs": [
    {
     "data": {
      "text/plain": [
       "PromptTemplate(input_variables=['character'], input_types={}, partial_variables={'format_instructions': 'The output should be formatted as a JSON instance that conforms to the JSON schema below.\\n\\nAs an example, for the schema {\"properties\": {\"foo\": {\"title\": \"Foo\", \"description\": \"a list of strings\", \"type\": \"array\", \"items\": {\"type\": \"string\"}}}, \"required\": [\"foo\"]}\\nthe object {\"foo\": [\"bar\", \"baz\"]} is a well-formatted instance of the schema. The object {\"properties\": {\"foo\": [\"bar\", \"baz\"]}} is not well-formatted.\\n\\nHere is the output schema:\\n```\\n{\"properties\": {\"name\": {\"description\": \"Name of the person\", \"title\": \"Name\", \"type\": \"string\"}, \"age\": {\"description\": \"Age of the person\", \"title\": \"Age\", \"type\": \"integer\"}, \"city\": {\"description\": \"Name of City the person belongs to\", \"title\": \"City\", \"type\": \"string\"}, \"description\": {\"description\": \"Description of the person\", \"title\": \"Description\", \"type\": \"string\"}}, \"required\": [\"name\", \"age\", \"city\", \"description\"]}\\n```'}, template='Give the information about the person : {character}\\n {format_instructions}')"
      ]
     },
     "execution_count": 6,
     "metadata": {},
     "output_type": "execute_result"
    }
   ],
   "source": [
    "temp"
   ]
  },
  {
   "cell_type": "code",
   "execution_count": 7,
   "id": "34b00cb5",
   "metadata": {},
   "outputs": [],
   "source": [
    "chain = temp | llm | parser"
   ]
  },
  {
   "cell_type": "code",
   "execution_count": 8,
   "id": "6634b15f",
   "metadata": {},
   "outputs": [
    {
     "data": {
      "text/plain": [
       "Person(name='Bruce Wayne', age=39, city='Gotham City', description='Billionaire industrialist and philanthropist by day, vigilante crime fighter known as Batman by night.')"
      ]
     },
     "execution_count": 8,
     "metadata": {},
     "output_type": "execute_result"
    }
   ],
   "source": [
    "chain.invoke({\"character\":\"Bruce Wayne\"})"
   ]
  },
  {
   "cell_type": "code",
   "execution_count": 10,
   "id": "d3f3b420",
   "metadata": {},
   "outputs": [
    {
     "data": {
      "text/plain": [
       "Person(name='Peter Parker', age=17, city='New York City', description='A teenager balancing high school with his secret identity as Spider-Man, a superhero who gained spider-like powers after being bitten by a radioactive spider.')"
      ]
     },
     "execution_count": 10,
     "metadata": {},
     "output_type": "execute_result"
    }
   ],
   "source": [
    "chain.invoke({\"character\":\"Peter Parker\"})"
   ]
  }
 ],
 "metadata": {
  "kernelspec": {
   "display_name": "venv",
   "language": "python",
   "name": "python3"
  },
  "language_info": {
   "codemirror_mode": {
    "name": "ipython",
    "version": 3
   },
   "file_extension": ".py",
   "mimetype": "text/x-python",
   "name": "python",
   "nbconvert_exporter": "python",
   "pygments_lexer": "ipython3",
   "version": "3.12.11"
  }
 },
 "nbformat": 4,
 "nbformat_minor": 5
}
